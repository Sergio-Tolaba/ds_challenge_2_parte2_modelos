{
  "nbformat": 4,
  "nbformat_minor": 0,
  "metadata": {
    "colab": {
      "provenance": []
    },
    "kernelspec": {
      "name": "python3",
      "display_name": "Python 3"
    },
    "language_info": {
      "name": "python"
    }
  },
  "cells": [
    {
      "cell_type": "code",
      "execution_count": 2,
      "metadata": {
        "id": "58QdmWhcc8as"
      },
      "outputs": [],
      "source": [
        "import pandas as pd\n",
        "import numpy as np\n",
        "from sklearn.preprocessing import MinMaxScaler"
      ]
    },
    {
      "cell_type": "code",
      "source": [
        "df = pd.read_csv(\"datos_tratados.csv\")\n",
        "df.info()"
      ],
      "metadata": {
        "colab": {
          "base_uri": "https://localhost:8080/"
        },
        "id": "hgiy2hRFdbYR",
        "outputId": "929443b9-0bd4-48b1-b025-955b530a16a8"
      },
      "execution_count": 5,
      "outputs": [
        {
          "output_type": "stream",
          "name": "stdout",
          "text": [
            "<class 'pandas.core.frame.DataFrame'>\n",
            "RangeIndex: 7267 entries, 0 to 7266\n",
            "Data columns (total 21 columns):\n",
            " #   Column                     Non-Null Count  Dtype  \n",
            "---  ------                     --------------  -----  \n",
            " 0   customerID                 7267 non-null   object \n",
            " 1   Churn                      7043 non-null   object \n",
            " 2   customer_gender            7267 non-null   object \n",
            " 3   customer_SeniorCitizen     7267 non-null   int64  \n",
            " 4   customer_Partner           7267 non-null   object \n",
            " 5   customer_Dependents        7267 non-null   object \n",
            " 6   customer_tenure            7267 non-null   int64  \n",
            " 7   phone_PhoneService         7267 non-null   object \n",
            " 8   phone_MultipleLines        7267 non-null   object \n",
            " 9   internet_InternetService   7267 non-null   object \n",
            " 10  internet_OnlineSecurity    7267 non-null   object \n",
            " 11  internet_OnlineBackup      7267 non-null   object \n",
            " 12  internet_DeviceProtection  7267 non-null   object \n",
            " 13  internet_TechSupport       7267 non-null   object \n",
            " 14  internet_StreamingTV       7267 non-null   object \n",
            " 15  internet_StreamingMovies   7267 non-null   object \n",
            " 16  account_Contract           7267 non-null   object \n",
            " 17  account_PaperlessBilling   7267 non-null   object \n",
            " 18  account_PaymentMethod      7267 non-null   object \n",
            " 19  account_Charges_Monthly    7267 non-null   float64\n",
            " 20  account_Charges_Total      7267 non-null   object \n",
            "dtypes: float64(1), int64(2), object(18)\n",
            "memory usage: 1.2+ MB\n"
          ]
        }
      ]
    },
    {
      "cell_type": "code",
      "source": [
        "df = df.dropna(subset=['Churn'])\n",
        "df.info()"
      ],
      "metadata": {
        "colab": {
          "base_uri": "https://localhost:8080/"
        },
        "id": "qWk1C-wUeB4j",
        "outputId": "d253d69d-d06a-43ee-8017-8452e86c13ec"
      },
      "execution_count": 6,
      "outputs": [
        {
          "output_type": "stream",
          "name": "stdout",
          "text": [
            "<class 'pandas.core.frame.DataFrame'>\n",
            "Index: 7043 entries, 0 to 7266\n",
            "Data columns (total 21 columns):\n",
            " #   Column                     Non-Null Count  Dtype  \n",
            "---  ------                     --------------  -----  \n",
            " 0   customerID                 7043 non-null   object \n",
            " 1   Churn                      7043 non-null   object \n",
            " 2   customer_gender            7043 non-null   object \n",
            " 3   customer_SeniorCitizen     7043 non-null   int64  \n",
            " 4   customer_Partner           7043 non-null   object \n",
            " 5   customer_Dependents        7043 non-null   object \n",
            " 6   customer_tenure            7043 non-null   int64  \n",
            " 7   phone_PhoneService         7043 non-null   object \n",
            " 8   phone_MultipleLines        7043 non-null   object \n",
            " 9   internet_InternetService   7043 non-null   object \n",
            " 10  internet_OnlineSecurity    7043 non-null   object \n",
            " 11  internet_OnlineBackup      7043 non-null   object \n",
            " 12  internet_DeviceProtection  7043 non-null   object \n",
            " 13  internet_TechSupport       7043 non-null   object \n",
            " 14  internet_StreamingTV       7043 non-null   object \n",
            " 15  internet_StreamingMovies   7043 non-null   object \n",
            " 16  account_Contract           7043 non-null   object \n",
            " 17  account_PaperlessBilling   7043 non-null   object \n",
            " 18  account_PaymentMethod      7043 non-null   object \n",
            " 19  account_Charges_Monthly    7043 non-null   float64\n",
            " 20  account_Charges_Total      7043 non-null   object \n",
            "dtypes: float64(1), int64(2), object(18)\n",
            "memory usage: 1.2+ MB\n"
          ]
        }
      ]
    },
    {
      "cell_type": "code",
      "source": [
        "# Convierto a numérico\n",
        "df['account_Charges_Total'] = pd.to_numeric(df['account_Charges_Total'].replace(\" \", \"0\"), errors='coerce')\n",
        "df['account_Charges_Total'] = df['account_Charges_Total'].fillna(0)\n"
      ],
      "metadata": {
        "id": "nGquVvqBeZfK"
      },
      "execution_count": 8,
      "outputs": []
    },
    {
      "cell_type": "code",
      "source": [
        "# 'Churn' a binario\n",
        "df['Churn'] = df['Churn'].map({'Yes': 1, 'No': 0})"
      ],
      "metadata": {
        "id": "CehJ4_yifQWd"
      },
      "execution_count": 9,
      "outputs": []
    },
    {
      "cell_type": "code",
      "source": [
        "# Codificación One-Hot para variables categóricas\n",
        "cat_cols = df.select_dtypes(include='object').columns.drop(['customerID'])\n",
        "df = pd.get_dummies(df, columns=cat_cols, drop_first=True)"
      ],
      "metadata": {
        "id": "VXTZSDSCfmt0"
      },
      "execution_count": 10,
      "outputs": []
    },
    {
      "cell_type": "code",
      "source": [
        "# Normalizar variables numéricas\n",
        "scaler = MinMaxScaler()\n",
        "cols_to_scale = ['customer_tenure', 'account_Charges_Monthly', 'account_Charges_Total']\n",
        "df[cols_to_scale] = scaler.fit_transform(df[cols_to_scale])"
      ],
      "metadata": {
        "id": "Uqm5NBqdfw0c"
      },
      "execution_count": 11,
      "outputs": []
    },
    {
      "cell_type": "code",
      "source": [
        "# Elimino columna ID\n",
        "df.drop(columns=['customerID'], inplace=True)\n",
        "\n",
        "# Guardar archivo limpio\n",
        "df.to_csv(\"datos_limpios.csv\", index=False)"
      ],
      "metadata": {
        "id": "ZRN08ReCgI6b"
      },
      "execution_count": 12,
      "outputs": []
    },
    {
      "cell_type": "code",
      "source": [
        "from google.colab import files\n",
        "# Descargar archivo limpio\n",
        "files.download(\"datos_limpios.csv\")"
      ],
      "metadata": {
        "colab": {
          "base_uri": "https://localhost:8080/",
          "height": 17
        },
        "id": "rLCFQnBLgI8E",
        "outputId": "6cb1656c-4278-4058-896a-96efa95b8d50"
      },
      "execution_count": 15,
      "outputs": [
        {
          "output_type": "display_data",
          "data": {
            "text/plain": [
              "<IPython.core.display.Javascript object>"
            ],
            "application/javascript": [
              "\n",
              "    async function download(id, filename, size) {\n",
              "      if (!google.colab.kernel.accessAllowed) {\n",
              "        return;\n",
              "      }\n",
              "      const div = document.createElement('div');\n",
              "      const label = document.createElement('label');\n",
              "      label.textContent = `Downloading \"${filename}\": `;\n",
              "      div.appendChild(label);\n",
              "      const progress = document.createElement('progress');\n",
              "      progress.max = size;\n",
              "      div.appendChild(progress);\n",
              "      document.body.appendChild(div);\n",
              "\n",
              "      const buffers = [];\n",
              "      let downloaded = 0;\n",
              "\n",
              "      const channel = await google.colab.kernel.comms.open(id);\n",
              "      // Send a message to notify the kernel that we're ready.\n",
              "      channel.send({})\n",
              "\n",
              "      for await (const message of channel.messages) {\n",
              "        // Send a message to notify the kernel that we're ready.\n",
              "        channel.send({})\n",
              "        if (message.buffers) {\n",
              "          for (const buffer of message.buffers) {\n",
              "            buffers.push(buffer);\n",
              "            downloaded += buffer.byteLength;\n",
              "            progress.value = downloaded;\n",
              "          }\n",
              "        }\n",
              "      }\n",
              "      const blob = new Blob(buffers, {type: 'application/binary'});\n",
              "      const a = document.createElement('a');\n",
              "      a.href = window.URL.createObjectURL(blob);\n",
              "      a.download = filename;\n",
              "      div.appendChild(a);\n",
              "      a.click();\n",
              "      div.remove();\n",
              "    }\n",
              "  "
            ]
          },
          "metadata": {}
        },
        {
          "output_type": "display_data",
          "data": {
            "text/plain": [
              "<IPython.core.display.Javascript object>"
            ],
            "application/javascript": [
              "download(\"download_a9255bae-c14f-49d5-b2d2-2ed3ae9ca26f\", \"datos_limpios.csv\", 1467220)"
            ]
          },
          "metadata": {}
        }
      ]
    }
  ]
}